{
  "nbformat": 4,
  "nbformat_minor": 0,
  "metadata": {
    "colab": {
      "name": "Bentonite Preprocessing",
      "provenance": [],
      "collapsed_sections": []
    },
    "kernelspec": {
      "name": "python3",
      "display_name": "Python 3"
    },
    "language_info": {
      "name": "python"
    }
  },
  "cells": [
    {
      "cell_type": "code",
      "execution_count": null,
      "metadata": {
        "id": "yRC366gssfcM"
      },
      "outputs": [],
      "source": [
        "import cv2\n",
        "import numpy as np\n",
        "import matplotlib.pyplot as plt\n",
        "from skimage.morphology import remove_small_objects, diameter_closing\n",
        "from google.colab.patches import cv2_imshow\n",
        "from os import listdir\n",
        "from os.path import isfile, join"
      ]
    },
    {
      "cell_type": "code",
      "source": [
        "def threshold_imgs(imgs, threshold):\n",
        "  # Thresholding the equalized images\n",
        "  thresh = []\n",
        "  for img in imgs:\n",
        "    _, bin = cv2.threshold(img, threshold, 1, cv2.THRESH_BINARY)\n",
        "    thresh.append(bin)\n",
        "  return thresh\n",
        "\n",
        "def clean_imgs(imgs, min_size, connectivity):\n",
        "  clean = []\n",
        "  for img in imgs:\n",
        "    cleaned = remove_small_objects(\n",
        "      img.astype(bool), min_size=min_size, connectivity=connectivity).astype(int)\n",
        "    cleaned *= 255\n",
        "    clean.append(cleaned)\n",
        "  return clean\n",
        "\n",
        "def save_imgs(path, imgs, filenames):\n",
        "  for i, img in enumerate(imgs):\n",
        "    cv2.imwrite(path + filenames[i], img)\n",
        "\n",
        "def preprocess_imgs(path, thresh, min_size, connectivity, imgs, filenames):\n",
        "  thresh = threshold_imgs(imgs, thresh)\n",
        "  clean = clean_imgs(thresh, min_size, connectivity)\n",
        "  save_imgs(path, clean, filenames)\n",
        "  return clean"
      ],
      "metadata": {
        "id": "2ISmtInsbtcn"
      },
      "execution_count": null,
      "outputs": []
    },
    {
      "cell_type": "markdown",
      "source": [
        "# Preprocessing 0 C Data (Pre-Fiji)"
      ],
      "metadata": {
        "id": "sm19eJFJSx5V"
      }
    },
    {
      "cell_type": "code",
      "source": [
        "imgs = []\n",
        "mypath = './'\n",
        "\n",
        "# Loading in the original images\n",
        "onlyfiles = [f for f in listdir(mypath) if isfile(join(mypath, f))]\n",
        "for f in onlyfiles:\n",
        "  img = cv2.imread(mypath + f, 0)\n",
        "  imgs.append(img)"
      ],
      "metadata": {
        "id": "VsMZQGwTskEF"
      },
      "execution_count": null,
      "outputs": []
    },
    {
      "cell_type": "code",
      "source": [
        "processed_imgs = preprocess_imgs('./CleanedOriginal/', 230, 64, 16, imgs, onlyfiles)"
      ],
      "metadata": {
        "id": "UOi13WWYgGE8"
      },
      "execution_count": null,
      "outputs": []
    },
    {
      "cell_type": "code",
      "source": [
        "!zip -r CleanedOriginal.zip ./CleanedOriginal"
      ],
      "metadata": {
        "id": "nBOvet-HldEk"
      },
      "execution_count": null,
      "outputs": []
    },
    {
      "cell_type": "markdown",
      "source": [
        "# Preprocessing 0 C Data (Post-Fiji)"
      ],
      "metadata": {
        "id": "7SiiBHPFjdnT"
      }
    },
    {
      "cell_type": "code",
      "source": [
        "imgs = []\n",
        "mypath = './'\n",
        "\n",
        "# Loading in the original images\n",
        "onlyfiles = [f for f in listdir(mypath) if isfile(join(mypath, f))]\n",
        "for f in onlyfiles:\n",
        "  img = cv2.imread(mypath + f, 0)\n",
        "  imgs.append(img)"
      ],
      "metadata": {
        "id": "hh54uxNOjc_j"
      },
      "execution_count": null,
      "outputs": []
    },
    {
      "cell_type": "code",
      "source": [
        "processed_imgs = preprocess_imgs('./CleanedMasks/', 128, 16, 8, imgs, onlyfiles)"
      ],
      "metadata": {
        "id": "QfGyVTn3lOeA"
      },
      "execution_count": null,
      "outputs": []
    },
    {
      "cell_type": "code",
      "source": [
        "!zip -r CleanedMasks.zip ./CleanedMasks"
      ],
      "metadata": {
        "id": "wIfZ9rMHlsO-"
      },
      "execution_count": null,
      "outputs": []
    },
    {
      "cell_type": "code",
      "source": [
        ""
      ],
      "metadata": {
        "id": "beg3-3Hel_GS"
      },
      "execution_count": null,
      "outputs": []
    }
  ]
}